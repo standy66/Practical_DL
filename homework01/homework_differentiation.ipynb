{
 "cells": [
  {
   "cell_type": "markdown",
   "metadata": {},
   "source": [
    "# Homework 1: Differentiation"
   ]
  },
  {
   "cell_type": "markdown",
   "metadata": {},
   "source": [
    "Since it easy to google every task please please please try to undestand what's going on. The \"just answer\" thing will be not counted, make sure to present derivation of your solution. It is absolutely OK if you found an answer on web then just exercise in $\\LaTeX$ copying it into here."
   ]
  },
  {
   "cell_type": "markdown",
   "metadata": {},
   "source": [
    "Useful links: \n",
    "[1](http://www.machinelearning.ru/wiki/images/2/2a/Matrix-Gauss.pdf)\n",
    "[2](http://www.atmos.washington.edu/~dennis/MatrixCalculus.pdf)\n",
    "[3](http://cal.cs.illinois.edu/~johannes/research/matrix%20calculus.pdf)\n",
    "[4](http://research.microsoft.com/en-us/um/people/cmbishop/prml/index.htm)"
   ]
  },
  {
   "cell_type": "markdown",
   "metadata": {},
   "source": [
    "## ex. 1"
   ]
  },
  {
   "cell_type": "markdown",
   "metadata": {},
   "source": [
    "$$  \n",
    "y = x^Tx,  \\quad x \\in \\mathbb{R}^N \n",
    "$$"
   ]
  },
  {
   "cell_type": "markdown",
   "metadata": {},
   "source": [
    "$$y = \\sum_k x_k^2$$\n",
    "\n",
    "$$\\frac{\\partial y}{\\partial x_i} = \\sum_k \\frac{\\partial x_k^2}{\\partial x_i} = 2 x_i$$\n",
    "\n",
    "$$\\frac{d y}{d x} = 2x$$"
   ]
  },
  {
   "cell_type": "markdown",
   "metadata": {},
   "source": [
    "## ex. 2"
   ]
  },
  {
   "cell_type": "markdown",
   "metadata": {},
   "source": [
    "$$ y = tr(AB) \\quad A,B \\in \\mathbb{R}^{N \\times N} $$ "
   ]
  },
  {
   "cell_type": "markdown",
   "metadata": {},
   "source": [
    "$$y = \\sum_k (AB)_{kk} = \\sum_k \\sum_l A_{kl} B_{lk} = \\sum_{k, l} A_{kl} B^T_{kl}$$\n",
    "\n",
    "$$\\frac{\\partial y}{\\partial A_{ij}} = \\sum_{k, l} \\frac{\\partial A_{kl}}{\\partial A_{ij}} B^T_{kl} = \\sum_{k, l} \\delta_{ik} \\delta_{jl} B^T_{kl} = B^T_{ij}$$\n",
    "\n",
    "$$\\frac{d y}{d A} = B^T$$"
   ]
  },
  {
   "cell_type": "markdown",
   "metadata": {},
   "source": [
    "## ex. 3"
   ]
  },
  {
   "cell_type": "markdown",
   "metadata": {},
   "source": [
    "$$  \n",
    "y = x^TAc , \\quad A\\in \\mathbb{R}^{N \\times N}, x\\in \\mathbb{R}^{N}, c\\in \\mathbb{R}^{N} \n",
    "$$"
   ]
  },
  {
   "cell_type": "markdown",
   "metadata": {},
   "source": [
    "$$b = Ac \\Longrightarrow y = x^Tb = \\sum_k x_k b_k$$\n",
    "\n",
    "$$\\frac{\\partial y}{\\partial x_i} = b_i \\Longrightarrow  \\frac{dy}{dx} =b$$\n"
   ]
  },
  {
   "cell_type": "markdown",
   "metadata": {},
   "source": [
    "$$y = \\sum_k x_k b_k = \\sum_k \\sum_l x_k A_{kl} c_l = \\sum_{kl} A_{kl} (cx^T)_{lk} = tr(A(cx^T))$$\n",
    "\n",
    "$$\n",
    "\\frac{dy}{dA} = (cx^T)^T = xc^T\n",
    "$$ "
   ]
  },
  {
   "cell_type": "markdown",
   "metadata": {},
   "source": [
    "Hint for the latter (one of the ways): use *ex. 2* result and the fact \n",
    "$$\n",
    "tr(ABC) = tr (CAB)\n",
    "$$"
   ]
  },
  {
   "cell_type": "markdown",
   "metadata": {},
   "source": [
    "## ex. 4"
   ]
  },
  {
   "cell_type": "markdown",
   "metadata": {},
   "source": [
    "Classic matrix factorization example. Given matrix $X$ you need to find $A$, $S$ to approximate $X$. This can be done by simple gradient descent iteratively alternating $A$ and $S$ updates.\n",
    "$$\n",
    "J = || X - AS ||_2^2  , \\quad A\\in \\mathbb{R}^{N \\times R} , \\quad S\\in \\mathbb{R}^{R \\times M}\n",
    "$$\n",
    "$$\n",
    "\\frac{dJ}{dS} = ? \n",
    "$$ "
   ]
  },
  {
   "cell_type": "markdown",
   "metadata": {},
   "source": [
    "### First approach\n",
    "Using ex.2 and the fact:\n",
    "$$\n",
    "|| X ||_2^2 = tr(XX^T) \n",
    "$$ \n",
    "it is easy to derive gradients (you can find it in one of the refs). "
   ]
  },
  {
   "cell_type": "markdown",
   "metadata": {},
   "source": [
    "### Second approach\n",
    "You can use *slightly different techniques* if they suits you. Take a look at this derivation:\n",
    "<img src=\"grad.png\">\n",
    "(excerpt from [Handbook of blind source separation, Jutten, page 517](https://books.google.ru/books?id=PTbj03bYH6kC&printsec=frontcover&dq=Handbook+of+Blind+Source+Separation&hl=en&sa=X&ved=0ahUKEwi-q_apiJDLAhULvXIKHVXJDWcQ6AEIHDAA#v=onepage&q=Handbook%20of%20Blind%20Source%20Separation&f=false), open for better picture)."
   ]
  },
  {
   "cell_type": "markdown",
   "metadata": {},
   "source": [
    "### Third approach\n",
    "And finally we can use chain rule! **YOUR TURN** to do it.\n",
    "let $ F = AS $ \n",
    "\n",
    "**Find**\n",
    "$$J = \\sum_{ij} (X - F)^2_{ij} = \\sum_{ij}X_{ij}^2 - 2 X_{ij}F_{ij} + F^2_{ij}$$\n",
    "\n",
    "$$\\frac{\\partial J}{\\partial F_{kl}} = \\sum_{ij} \\delta_{ik} \\delta_{jl}(-2 X_{ij} + 2 F_{ij}) = -2X_{kl} + 2F_{kl} \\Longrightarrow \\frac{dJ}{dF} = 2(F-X)$$ \n",
    "and \n",
    "$$\n",
    "\\frac{dF_{ij}}{dS_{kl}} = \\frac{\\partial}{\\partial S_{kl}}\\sum_{n} A_{in} S_{nj} =\n",
    "\\sum_n A_{in} \\frac{\\partial S_{nj}}{\\partial S_{kl}} =\n",
    "\\sum_n A_{in} \\delta_{kn} \\delta_{jl} = A_{ik} \\delta_{jl}\n",
    "$$ \n",
    "(the shape should be $ NM \\times RM )$.\n",
    "\n",
    "Now it is easy do get desired gradients:\n",
    "$$\n",
    "\\frac{\\partial J}{\\partial S_{kl}} =  \\sum_{ij} \\frac{\\partial J}{\\partial F_{ij}} \\frac{\\partial F_{ij}}{\\partial S_{kl}} = \\sum_{ij} 2(F - X)_{ij} A_{ik} \\delta_{jl} = 2 \\sum_i A^T_{ki} (F-X)_{il} = 2 (A^T(F-X))_{kl}\n",
    "$$ \n",
    "\n",
    "$$\n",
    "\\frac{dJ}{dS} = 2A^T(F-X) = 2 A^T(AS - X) = 2 A^TAS - A^TX\n",
    "$$"
   ]
  },
  {
   "cell_type": "code",
   "execution_count": null,
   "metadata": {
    "collapsed": true
   },
   "outputs": [],
   "source": []
  }
 ],
 "metadata": {
  "kernelspec": {
   "display_name": "Python 3",
   "language": "python",
   "name": "python3"
  },
  "language_info": {
   "codemirror_mode": {
    "name": "ipython",
    "version": 3
   },
   "file_extension": ".py",
   "mimetype": "text/x-python",
   "name": "python",
   "nbconvert_exporter": "python",
   "pygments_lexer": "ipython3",
   "version": "3.6.3"
  }
 },
 "nbformat": 4,
 "nbformat_minor": 2
}
