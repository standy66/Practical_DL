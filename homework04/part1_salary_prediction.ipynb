{
 "cells": [
  {
   "cell_type": "markdown",
   "metadata": {},
   "source": [
    "# Natural Language Processing with Deep Learning\n",
    "\n",
    "__This is exactly the same notebook as in `../week10_textconv/.`__\n",
    "\n",
    "__Feel free submit the seminar notebook, just make sure you read the assignments at the end.__\n",
    "\n",
    "Today we're gonna apply the newly learned DL tools for sequence processing to the task of predicting job salary.\n",
    "\n",
    "Special thanks to [Oleg Vasilev](https://github.com/Omrigan/) for the assignment core (orignally written for theano/tensorflow)."
   ]
  },
  {
   "cell_type": "code",
   "execution_count": 1,
   "metadata": {
    "collapsed": true
   },
   "outputs": [],
   "source": [
    "import sys\n",
    "import math\n",
    "import numpy as np\n",
    "import pandas as pd\n",
    "import matplotlib.pyplot as plt\n",
    "%matplotlib inline"
   ]
  },
  {
   "cell_type": "markdown",
   "metadata": {},
   "source": [
    "### About the challenge\n",
    "For starters, let's download the data from __[here](https://yadi.sk/d/vVEOWPFY3NruT7)__.\n",
    "\n",
    "You can also get it from the competition [page](https://www.kaggle.com/c/job-salary-prediction/data) (in that case, pick `Train_rev1.*`).\n",
    "\n",
    "\n",
    "Our task is to predict one number, __SalaryNormalized__, in the sense of minimizing __Mean Absolute Error__.\n",
    "\n",
    "<img src=\"https://kaggle2.blob.core.windows.net/competitions/kaggle/3342/media/salary%20prediction%20engine%20v2.png\" width=400px>\n",
    "\n",
    "To do so, our model ca access a number of features:\n",
    "* Free text: __`Title`__ and  __`FullDescription`__\n",
    "* Categorical: __`Category`__, __`Company`__, __`LocationNormalized`__, __`ContractType`__, and __`ContractTime`__.\n",
    "\n",
    "\n",
    "You can read more [in the official description](https://www.kaggle.com/c/job-salary-prediction#description)."
   ]
  },
  {
   "cell_type": "code",
   "execution_count": 2,
   "metadata": {
    "collapsed": true
   },
   "outputs": [
    {
     "data": {
      "text/html": [
       "<div>\n",
       "<style scoped>\n",
       "    .dataframe tbody tr th:only-of-type {\n",
       "        vertical-align: middle;\n",
       "    }\n",
       "\n",
       "    .dataframe tbody tr th {\n",
       "        vertical-align: top;\n",
       "    }\n",
       "\n",
       "    .dataframe thead th {\n",
       "        text-align: right;\n",
       "    }\n",
       "</style>\n",
       "<table border=\"1\" class=\"dataframe\">\n",
       "  <thead>\n",
       "    <tr style=\"text-align: right;\">\n",
       "      <th></th>\n",
       "      <th>Id</th>\n",
       "      <th>Title</th>\n",
       "      <th>FullDescription</th>\n",
       "      <th>LocationRaw</th>\n",
       "      <th>LocationNormalized</th>\n",
       "      <th>ContractType</th>\n",
       "      <th>ContractTime</th>\n",
       "      <th>Company</th>\n",
       "      <th>Category</th>\n",
       "      <th>SalaryRaw</th>\n",
       "      <th>SalaryNormalized</th>\n",
       "      <th>SourceName</th>\n",
       "      <th>Log1pSalary</th>\n",
       "    </tr>\n",
       "  </thead>\n",
       "  <tbody>\n",
       "    <tr>\n",
       "      <th>105394</th>\n",
       "      <td>69577905</td>\n",
       "      <td>GRADUATE SALES EXECUTIVE / GRADUATE ACCOUNT EX...</td>\n",
       "      <td>GRADUATE SALES EXECUTIVE / GRADUATE ACCOUNT EX...</td>\n",
       "      <td>South Yorkshire - Sheffield</td>\n",
       "      <td>Sheffield</td>\n",
       "      <td>full_time</td>\n",
       "      <td>permanent</td>\n",
       "      <td>UKStaffsearch</td>\n",
       "      <td>PR, Advertising &amp; Marketing Jobs</td>\n",
       "      <td>23000 - 30000</td>\n",
       "      <td>26500</td>\n",
       "      <td>ukstaffsearch.com</td>\n",
       "      <td>10.184937</td>\n",
       "    </tr>\n",
       "    <tr>\n",
       "      <th>129395</th>\n",
       "      <td>70145797</td>\n",
       "      <td>Hotel Reservationist</td>\n",
       "      <td>Be Part of a NEW Sales Office TEAM Working wit...</td>\n",
       "      <td>Crawley, West Sussex West Sussex South East</td>\n",
       "      <td>Crawley</td>\n",
       "      <td>NaN</td>\n",
       "      <td>NaN</td>\n",
       "      <td>Ramada Plaza London Gatwick</td>\n",
       "      <td>Hospitality &amp; Catering Jobs</td>\n",
       "      <td>From 12,646 to 14,500 per annum</td>\n",
       "      <td>13573</td>\n",
       "      <td>caterer.com</td>\n",
       "      <td>9.515911</td>\n",
       "    </tr>\n",
       "    <tr>\n",
       "      <th>71779</th>\n",
       "      <td>68837528</td>\n",
       "      <td>Head Chef – Cambridge Hotel  ****/****Bonus</td>\n",
       "      <td>Head Chef – Cambridge Hotel  ****/****Bonus Th...</td>\n",
       "      <td>Cambridge Cambridgeshire East Anglia</td>\n",
       "      <td>UK</td>\n",
       "      <td>NaN</td>\n",
       "      <td>NaN</td>\n",
       "      <td>Select Hospitality</td>\n",
       "      <td>Hospitality &amp; Catering Jobs</td>\n",
       "      <td>From 25,000 to 30,000 per annum</td>\n",
       "      <td>27500</td>\n",
       "      <td>caterer.com</td>\n",
       "      <td>10.221977</td>\n",
       "    </tr>\n",
       "  </tbody>\n",
       "</table>\n",
       "</div>"
      ],
      "text/plain": [
       "              Id                                              Title  \\\n",
       "105394  69577905  GRADUATE SALES EXECUTIVE / GRADUATE ACCOUNT EX...   \n",
       "129395  70145797                               Hotel Reservationist   \n",
       "71779   68837528        Head Chef – Cambridge Hotel  ****/****Bonus   \n",
       "\n",
       "                                          FullDescription  \\\n",
       "105394  GRADUATE SALES EXECUTIVE / GRADUATE ACCOUNT EX...   \n",
       "129395  Be Part of a NEW Sales Office TEAM Working wit...   \n",
       "71779   Head Chef – Cambridge Hotel  ****/****Bonus Th...   \n",
       "\n",
       "                                        LocationRaw LocationNormalized  \\\n",
       "105394                  South Yorkshire - Sheffield          Sheffield   \n",
       "129395  Crawley, West Sussex West Sussex South East            Crawley   \n",
       "71779          Cambridge Cambridgeshire East Anglia                 UK   \n",
       "\n",
       "       ContractType ContractTime                      Company  \\\n",
       "105394    full_time    permanent                UKStaffsearch   \n",
       "129395          NaN          NaN  Ramada Plaza London Gatwick   \n",
       "71779           NaN          NaN           Select Hospitality   \n",
       "\n",
       "                                Category                        SalaryRaw  \\\n",
       "105394  PR, Advertising & Marketing Jobs                    23000 - 30000   \n",
       "129395       Hospitality & Catering Jobs  From 12,646 to 14,500 per annum   \n",
       "71779        Hospitality & Catering Jobs  From 25,000 to 30,000 per annum   \n",
       "\n",
       "        SalaryNormalized         SourceName  Log1pSalary  \n",
       "105394             26500  ukstaffsearch.com    10.184937  \n",
       "129395             13573        caterer.com     9.515911  \n",
       "71779              27500        caterer.com    10.221977  "
      ]
     },
     "execution_count": 2,
     "metadata": {},
     "output_type": "execute_result"
    }
   ],
   "source": [
    "data = pd.read_csv(\"./Train_rev1.csv\", index_col=None)\n",
    "data['Log1pSalary'] = np.log1p(data['SalaryNormalized']).astype('float32')\n",
    "\n",
    "text_columns = [\"Title\", \"FullDescription\"]\n",
    "categorical_columns = [\"Category\", \"Company\", \"LocationNormalized\", \"ContractType\", \"ContractTime\"]\n",
    "target_column = \"Log1pSalary\"\n",
    "data[categorical_columns] = data[categorical_columns].fillna('NaN') # cast nan to string\n",
    "\n",
    "data.sample(3)"
   ]
  },
  {
   "cell_type": "markdown",
   "metadata": {},
   "source": [
    "### The NLP part\n",
    "\n",
    "To even begin training our neural network, we're gonna need to preprocess the text features: tokenize it and build the token vocabularies.\n",
    "\n",
    "Since it is not an NLP course, we're gonna use simple built-in NLTK tokenization."
   ]
  },
  {
   "cell_type": "code",
   "execution_count": 3,
   "metadata": {
    "collapsed": true
   },
   "outputs": [
    {
     "name": "stdout",
     "output_type": "stream",
     "text": [
      "Before\n",
      "0         Engineering Systems Analyst\n",
      "100000                   HR Assistant\n",
      "200000           Senior EC&I Engineer\n",
      "Name: Title, dtype: object\n"
     ]
    }
   ],
   "source": [
    "print(\"Before\")\n",
    "print(data[\"Title\"][::100000])"
   ]
  },
  {
   "cell_type": "code",
   "execution_count": 4,
   "metadata": {
    "collapsed": true
   },
   "outputs": [],
   "source": [
    "import nltk\n",
    "tokenizer = nltk.tokenize.WordPunctTokenizer()\n",
    "\n",
    "for col in text_columns:\n",
    "    data[col] = data[col].apply(lambda l: ' '.join(tokenizer.tokenize(str(l).lower())))"
   ]
  },
  {
   "cell_type": "markdown",
   "metadata": {},
   "source": [
    "Now we can assume that our text is a space-separated list of tokens:"
   ]
  },
  {
   "cell_type": "code",
   "execution_count": 5,
   "metadata": {
    "collapsed": true
   },
   "outputs": [
    {
     "name": "stdout",
     "output_type": "stream",
     "text": [
      "After\n",
      "0         engineering systems analyst\n",
      "100000                   hr assistant\n",
      "200000         senior ec & i engineer\n",
      "Name: Title, dtype: object\n"
     ]
    }
   ],
   "source": [
    "print(\"After\")\n",
    "print(data[\"Title\"][::100000])"
   ]
  },
  {
   "cell_type": "markdown",
   "metadata": {},
   "source": [
    "Not all words are equally useful. Some of them are typos or rare words that are only present a few times. \n",
    "\n",
    "Let's see how many times is each word present in the data so that we can build a \"white list\" of known words."
   ]
  },
  {
   "cell_type": "code",
   "execution_count": 6,
   "metadata": {
    "collapsed": true
   },
   "outputs": [],
   "source": [
    "from collections import Counter\n",
    "token_counts = Counter()\n",
    "\n",
    "# Count how many times does each token occur in both \"Title\" and \"FullDescription\" fields\n",
    "for col in text_columns:\n",
    "    for sentence in data[col]:\n",
    "        token_counts.update(sentence.split())"
   ]
  },
  {
   "cell_type": "code",
   "execution_count": 7,
   "metadata": {
    "collapsed": true
   },
   "outputs": [
    {
     "name": "stdout",
     "output_type": "stream",
     "text": [
      "Total unique tokens : 202704\n",
      "('and', 2657388)\n",
      "('.', 2523216)\n",
      "(',', 2318606)\n",
      "('the', 2080994)\n",
      "('to', 2019884)\n",
      "...\n",
      "('stephanietraveltraderecruitmnt', 1)\n",
      "('ruabon', 1)\n",
      "('lowehays', 1)\n",
      "Correct!\n"
     ]
    }
   ],
   "source": [
    "print(\"Total unique tokens :\", len(token_counts))\n",
    "print('\\n'.join(map(str, token_counts.most_common(n=5))))\n",
    "print('...')\n",
    "print('\\n'.join(map(str, token_counts.most_common()[-3:])))\n",
    "\n",
    "assert token_counts.most_common(1)[0][1] in  range(2600000, 2700000)\n",
    "assert len(token_counts) in range(200000, 210000)\n",
    "print('Correct!')"
   ]
  },
  {
   "cell_type": "code",
   "execution_count": 8,
   "metadata": {
    "collapsed": true
   },
   "outputs": [
    {
     "data": {
      "text/plain": [
       "Text(0.5,0,'Counts')"
      ]
     },
     "execution_count": 8,
     "metadata": {},
     "output_type": "execute_result"
    },
    {
     "data": {
      "image/png": "[encoded data removed]",
      "text/plain": [
       "<Figure size 432x288 with 1 Axes>"
      ]
     },
     "metadata": {},
     "output_type": "display_data"
    }
   ],
   "source": [
    "# Let's see how many words are there for each count\n",
    "\n",
    "_=plt.hist(list(token_counts.values()), range=[0, 10**4], bins=50, log=True)\n",
    "plt.xlabel(\"Counts\")"
   ]
  },
  {
   "cell_type": "markdown",
   "metadata": {},
   "source": [
    "__Task 1.1__ Get a list of all tokens that occur at least 10 times."
   ]
  },
  {
   "cell_type": "code",
   "execution_count": 9,
   "metadata": {
    "collapsed": true
   },
   "outputs": [],
   "source": [
    "min_count = 10\n",
    "\n",
    "# tokens from token_counts keys that had at least min_count occurrences throughout the dataset\n",
    "tokens = [word for word, value in token_counts.items() if value >= min_count]\n",
    "\n",
    "# Add a special tokens for unknown and empty words\n",
    "UNK, PAD = \"UNK\", \"PAD\"\n",
    "tokens = [UNK, PAD] + tokens"
   ]
  },
  {
   "cell_type": "code",
   "execution_count": 10,
   "metadata": {
    "collapsed": true
   },
   "outputs": [
    {
     "name": "stdout",
     "output_type": "stream",
     "text": [
      "Tokens left: 34158\n",
      "Correct!\n"
     ]
    }
   ],
   "source": [
    "print(\"Tokens left:\", len(tokens))\n",
    "assert type(tokens)==list\n",
    "assert len(tokens) in range(32000,35000)\n",
    "assert 'me' in tokens\n",
    "assert UNK in tokens\n",
    "print(\"Correct!\")"
   ]
  },
  {
   "cell_type": "markdown",
   "metadata": {},
   "source": [
    "__Task 1.2__ Build an inverse token index: a dictionary from token(string) to it's index in `tokens` (int)"
   ]
  },
  {
   "cell_type": "code",
   "execution_count": 11,
   "metadata": {
    "collapsed": true
   },
   "outputs": [],
   "source": [
    "token_to_id = {word: idx for idx, word in enumerate(tokens)}"
   ]
  },
  {
   "cell_type": "code",
   "execution_count": 12,
   "metadata": {
    "collapsed": true
   },
   "outputs": [
    {
     "name": "stdout",
     "output_type": "stream",
     "text": [
      "Correct!\n"
     ]
    }
   ],
   "source": [
    "assert isinstance(token_to_id, dict)\n",
    "assert len(token_to_id) == len(tokens)\n",
    "for tok in tokens:\n",
    "    assert tokens[token_to_id[tok]] == tok\n",
    "\n",
    "print(\"Correct!\")"
   ]
  },
  {
   "cell_type": "markdown",
   "metadata": {},
   "source": [
    "And finally, let's use the vocabulary you've built to map text lines into torch-digestible matrices."
   ]
  },
  {
   "cell_type": "code",
   "execution_count": 13,
   "metadata": {
    "collapsed": true
   },
   "outputs": [],
   "source": [
    "UNK_IX, PAD_IX = map(token_to_id.get, [UNK, PAD])\n",
    "\n",
    "def as_matrix(sequences, max_len=None):\n",
    "    \"\"\" Convert a list of tokens into a matrix with padding \"\"\"\n",
    "    if isinstance(sequences[0], str):\n",
    "        sequences = list(map(str.split, sequences))\n",
    "        \n",
    "    max_len = min(max(map(len, sequences)), max_len or float('inf'))\n",
    "    \n",
    "    matrix = np.full((len(sequences), max_len), np.int32(PAD_IX))\n",
    "    for i,seq in enumerate(sequences):\n",
    "        row_ix = [token_to_id.get(word, UNK_IX) for word in seq[:max_len]]\n",
    "        matrix[i, :len(row_ix)] = row_ix\n",
    "    \n",
    "    return matrix"
   ]
  },
  {
   "cell_type": "code",
   "execution_count": 14,
   "metadata": {
    "collapsed": true
   },
   "outputs": [
    {
     "name": "stdout",
     "output_type": "stream",
     "text": [
      "engineering systems analyst\n",
      "hr assistant\n",
      "senior ec & i engineer\n",
      "\n",
      "Matrix:\n",
      "[[   2    3    4    1    1]\n",
      " [ 998  176    1    1    1]\n",
      " [  18 3472  242   59    6]]\n"
     ]
    }
   ],
   "source": [
    "#### print(\"Lines:\")\n",
    "print('\\n'.join(data[\"Title\"][::100000].values), end='\\n\\n')\n",
    "print(\"Matrix:\")\n",
    "print(as_matrix(data[\"Title\"][::100000]))"
   ]
  },
  {
   "cell_type": "markdown",
   "metadata": {},
   "source": [
    "Now let's  encode the categirical data we have.\n",
    "\n",
    "As usual, we shall use one-hot encoding for simplicity. Kudos if you implement tf-idf, target averaging or pseudo-counter-based encoding."
   ]
  },
  {
   "cell_type": "code",
   "execution_count": 15,
   "metadata": {
    "collapsed": true
   },
   "outputs": [
    {
     "data": {
      "text/plain": [
       "DictVectorizer(dtype=<class 'numpy.float32'>, separator='=', sort=True,\n",
       "        sparse=False)"
      ]
     },
     "execution_count": 15,
     "metadata": {},
     "output_type": "execute_result"
    }
   ],
   "source": [
    "from sklearn.feature_extraction import DictVectorizer\n",
    "\n",
    "# we only consider top-1k most frequent companies to minimize memory usage\n",
    "top_companies, top_counts = zip(*Counter(data['Company']).most_common(1000))\n",
    "recognized_companies = set(top_companies)\n",
    "data[\"Company\"] = data[\"Company\"].apply(lambda comp: comp if comp in recognized_companies else \"Other\")\n",
    "\n",
    "categorical_vectorizer = DictVectorizer(dtype=np.float32, sparse=False)\n",
    "categorical_vectorizer.fit(data[categorical_columns].apply(dict, axis=1))"
   ]
  },
  {
   "cell_type": "markdown",
   "metadata": {},
   "source": [
    "### The data science part\n",
    "\n",
    "Once we've learned to tokenize the data, let's design a machine learning experiment.\n",
    "\n",
    "As before, we won't focus too much on validation, opting for a simple train-test split.\n",
    "\n",
    "__To be completely rigorous,__ we've comitted a small crime here: we used the whole data for tokenization and vocabulary building. A more strict way would be to do that part on training set only. You may want to do that and measure the magnitude of changes."
   ]
  },
  {
   "cell_type": "code",
   "execution_count": 16,
   "metadata": {
    "collapsed": true
   },
   "outputs": [
    {
     "name": "stdout",
     "output_type": "stream",
     "text": [
      "Train size =  220291\n",
      "Validation size =  24477\n"
     ]
    }
   ],
   "source": [
    "from sklearn.model_selection import train_test_split\n",
    "\n",
    "data_train, data_val = train_test_split(data, test_size=0.1, random_state=42)\n",
    "\n",
    "print(\"Train size = \", len(data_train))\n",
    "print(\"Validation size = \", len(data_val))"
   ]
  },
  {
   "cell_type": "code",
   "execution_count": 17,
   "metadata": {
    "collapsed": true
   },
   "outputs": [],
   "source": [
    "def generate_batch(data, batch_size=None, replace=True, max_len=None):\n",
    "    \"\"\"\n",
    "    Creates a pytorch-friendly dict from the batch data.\n",
    "    :returns: a dict with {'title' : int64[batch, title_max_len]\n",
    "    \"\"\"\n",
    "    if batch_size is not None:\n",
    "        data = data.sample(batch_size, replace=replace)\n",
    "    \n",
    "    batch = {}\n",
    "    for col in text_columns:\n",
    "        batch[col] = as_matrix(data[col].values, max_len)\n",
    "    \n",
    "    batch['Categorical'] = categorical_vectorizer.transform(data[categorical_columns].apply(dict, axis=1))\n",
    "    \n",
    "    if target_column in data.columns:\n",
    "        batch[target_column] = data[target_column].values\n",
    "    \n",
    "    return batch"
   ]
  },
  {
   "cell_type": "code",
   "execution_count": 18,
   "metadata": {
    "collapsed": true
   },
   "outputs": [
    {
     "data": {
      "text/plain": [
       "{'Categorical': array([[0., 0., 0., ..., 0., 0., 0.],\n",
       "        [0., 0., 0., ..., 0., 0., 0.],\n",
       "        [1., 0., 0., ..., 0., 0., 0.]], dtype=float32),\n",
       " 'FullDescription': array([[  561,  1588,  1595,   321,   262,  1589,  1566,  2497,  1433,\n",
       "          1617],\n",
       "        [  217, 12331,    86,  8234,    15,  2133,  3181,  2241,   561,\n",
       "         13453],\n",
       "        [ 3030,  1166,  1681,  2335,    11,   288,  1527,  1166,    74,\n",
       "            74]], dtype=int32),\n",
       " 'Log1pSalary': array([10.571342,  9.672878,  9.741028], dtype=float32),\n",
       " 'Title': array([[ 429, 1468,   88,    1,    1],\n",
       "        [1849, 4502,   11, 3221,  622],\n",
       "        [1681,  288,   63,  313,   64]], dtype=int32)}"
      ]
     },
     "execution_count": 18,
     "metadata": {},
     "output_type": "execute_result"
    }
   ],
   "source": [
    "generate_batch(data_train, 3, max_len=10)"
   ]
  },
  {
   "cell_type": "markdown",
   "metadata": {},
   "source": [
    "### Finally, let's talk deep learning\n",
    "\n",
    "Out model consists of three branches:\n",
    "* Title encoder\n",
    "* Description encoder\n",
    "* Categorical features encoder\n",
    "\n",
    "We will then feed all 3 branches into one common network that predicts salary.\n",
    "\n",
    "![scheme](https://github.com/yandexdataschool/Practical_DL/raw/master/homework04/conv_salary_architecture.png)"
   ]
  },
  {
   "cell_type": "markdown",
   "metadata": {},
   "source": [
    "By default, both text vectorizers shall use 1d convolutions, followed by global pooling over time."
   ]
  },
  {
   "cell_type": "code",
   "execution_count": 19,
   "metadata": {
    "collapsed": true
   },
   "outputs": [],
   "source": [
    "import torch, torch.nn as nn\n",
    "import torch.nn.functional as F\n",
    "from torch.autograd import Variable\n",
    "\n",
    "class GlobalMaxPooling(nn.Module):\n",
    "    def __init__(self, dim=-1):\n",
    "        super(self.__class__, self).__init__()\n",
    "        self.dim = dim\n",
    "        \n",
    "    def forward(self, x):\n",
    "        return x.max(dim=self.dim)[0]\n",
    "    \n",
    "class GlobalAvgPooling(nn.Module):\n",
    "    def __init__(self, dim=-1):\n",
    "        super(self.__class__, self).__init__()\n",
    "        self.dim = dim\n",
    "        \n",
    "    def forward(self, x):\n",
    "        return x.mean(dim=self.dim)\n",
    "    \n",
    "class SequenceWise(nn.Module):\n",
    "    def __init__(self, module):\n",
    "        super().__init__()\n",
    "        self.module = module\n",
    "\n",
    "    def forward(self, x):\n",
    "        t, n = x.size(0), x.size(1)\n",
    "        x = x.view(t * n, -1)\n",
    "        x = self.module(x)\n",
    "        x = x.view(t, n, -1)\n",
    "        return x\n",
    "\n",
    "\n",
    "class BatchBiRNN(nn.Module):\n",
    "    def __init__(self, input_size, hidden_size, rnn_type=nn.GRU):\n",
    "        super().__init__()\n",
    "        self.batch_norm = SequenceWise(nn.BatchNorm1d(input_size))\n",
    "        self.rnn = rnn_type(input_size=input_size, hidden_size=hidden_size, bidirectional=True, bias=False)\n",
    "        self.projection = SequenceWise(nn.Linear(2 * hidden_size, hidden_size))\n",
    "\n",
    "    def flatten_parameters(self):\n",
    "        self.rnn.flatten_parameters()\n",
    "\n",
    "    def forward(self, x):\n",
    "        x = self.batch_norm(x)\n",
    "        x, _ = self.rnn(x)\n",
    "        return self.projection(x)\n",
    "    \n",
    "class AttentivePooling(nn.Module):\n",
    "    def __init__(self, hidden_size):\n",
    "        super().__init__()\n",
    "        self.weights_calculator = SequenceWise(nn.Sequential(\n",
    "            nn.Linear(hidden_size, hidden_size, bias=False),\n",
    "            nn.BatchNorm1d(hidden_size),\n",
    "            nn.ReLU(),\n",
    "            nn.Linear(hidden_size, 1),\n",
    "        ))\n",
    "        self.softmax = nn.Softmax(dim=1)\n",
    "        \n",
    "    def forward(self, x):\n",
    "        weights = self.weights_calculator(x)\n",
    "        weights = self.softmax(weights)\n",
    "        return (x * weights).sum(1)\n",
    "\n",
    "class SoftmaxPooling(nn.Module):\n",
    "    def __init__(self, dim):\n",
    "        super().__init__()\n",
    "        self.dim = dim\n",
    "        self.softmax = nn.Softmax(dim)\n",
    "    \n",
    "    def forward(self, x):\n",
    "        return (x * self.softmax(x)).sum(self.dim)"
   ]
  },
  {
   "cell_type": "code",
   "execution_count": 92,
   "metadata": {
    "collapsed": true
   },
   "outputs": [],
   "source": [
    "class TextEncoder(nn.Module):\n",
    "    def __init__(self, n_tokens=len(tokens), hidden_size=64):\n",
    "        \"\"\" \n",
    "        A simple sequential encoder for titles.\n",
    "        x -> emb -> conv -> global_max -> relu -> dense\n",
    "        \"\"\"\n",
    "        super(self.__class__, self).__init__()\n",
    "        self._hidden_size = hidden_size\n",
    "        self.embedding = nn.Embedding(n_tokens, hidden_size, padding_idx=PAD_IX)\n",
    "        self.convnet = nn.Sequential(\n",
    "            nn.Conv1d(hidden_size, hidden_size, kernel_size=3, padding=1),\n",
    "            nn.BatchNorm1d(hidden_size),\n",
    "            nn.ReLU(),\n",
    "            nn.Conv1d(hidden_size, hidden_size, kernel_size=3, padding=1),\n",
    "            nn.BatchNorm1d(hidden_size),\n",
    "            nn.ReLU()\n",
    "        )\n",
    "        self.pooling = GlobalMaxPooling(dim=1)\n",
    "        \n",
    "    @property\n",
    "    def out_size(self):\n",
    "        return self._hidden_size\n",
    "\n",
    "    def forward(self, text_ix):\n",
    "        \"\"\"\n",
    "        :param text_ix: int64 Variable of shape [batch_size, max_len]\n",
    "        :returns: float32 Variable of shape [batch_size, out_size]\n",
    "        \"\"\"\n",
    "        h = self.embedding(text_ix)\n",
    "\n",
    "        # we transpose from [batch, time, units] to [batch, units, time] to fit Conv1d dim order\n",
    "        h = h.transpose(1, 2)\n",
    "        h = self.convnet(h)\n",
    "        h = h.transpose(1, 2).contiguous()\n",
    "        return self.pooling(h)"
   ]
  },
  {
   "cell_type": "code",
   "execution_count": 93,
   "metadata": {},
   "outputs": [],
   "source": [
    "class RNNTextEncoder(nn.Module):\n",
    "    def __init__(self, n_tokens=len(tokens), hidden_size=256, num_layers=3):\n",
    "        super().__init__()\n",
    "        self._hidden_size = hidden_size\n",
    "        self.embedding = nn.Embedding(n_tokens, hidden_size, padding_idx=PAD_IX)\n",
    "        rnn_list = []\n",
    "        for _ in range(num_layers):\n",
    "            rnn_list.append(BatchBiRNN(hidden_size, hidden_size))\n",
    "        self.rnns = nn.Sequential(*rnn_list)\n",
    "        self.pooling = AttentivePooling(hidden_size)\n",
    "        \n",
    "    @property\n",
    "    def out_size(self):\n",
    "        return self._hidden_size\n",
    "    \n",
    "    def forward(self, text_ix):\n",
    "        hidden = self.embedding(text_ix)\n",
    "        hidden = torch.transpose(hidden, 0, 1).contiguous()\n",
    "        hidden = self.rnns(hidden)\n",
    "        hidden = torch.transpose(hidden, 0, 1).contiguous()\n",
    "        return self.pooling(hidden)"
   ]
  },
  {
   "cell_type": "code",
   "execution_count": 94,
   "metadata": {},
   "outputs": [],
   "source": [
    "def test_title_encoder(title_encoder):\n",
    "    dummy_x = Variable(torch.LongTensor(generate_batch(data_train, 3)['Title']))\n",
    "    dummy_v = title_encoder(dummy_x)\n",
    "\n",
    "    assert isinstance(dummy_v, Variable)\n",
    "    assert tuple(dummy_v.shape) == (dummy_x.shape[0], 64)\n",
    "\n",
    "    del title_encoder\n",
    "    print(\"Seems fine\")"
   ]
  },
  {
   "cell_type": "code",
   "execution_count": 95,
   "metadata": {
    "collapsed": true
   },
   "outputs": [],
   "source": [
    "# test_title_encoder(TextEncoder())\n",
    "# test_title_encoder(RNNTextEncoder(hidden_size=64))"
   ]
  },
  {
   "cell_type": "markdown",
   "metadata": {},
   "source": [
    "__Task 2.1__ Create description encoder"
   ]
  },
  {
   "cell_type": "code",
   "execution_count": 96,
   "metadata": {
    "collapsed": true
   },
   "outputs": [],
   "source": [
    "def test_desc_encoder(desc_encoder):\n",
    "    dummy_x = Variable(torch.LongTensor(generate_batch(data_train, 3)['FullDescription']))\n",
    "    dummy_v = desc_encoder(dummy_x)\n",
    "\n",
    "    assert isinstance(dummy_v, Variable)\n",
    "    assert tuple(dummy_v.shape) == (dummy_x.shape[0], 64)\n",
    "    del desc_encoder\n",
    "    print(\"Seems fine too\")"
   ]
  },
  {
   "cell_type": "code",
   "execution_count": 97,
   "metadata": {},
   "outputs": [],
   "source": [
    "# test_desc_encoder(TextEncoder())\n",
    "# test_desc_encoder(RNNTextEncoder(hidden_size=64))"
   ]
  },
  {
   "cell_type": "markdown",
   "metadata": {},
   "source": [
    "__ Task 2.2__ Build one network ~~to rule them all~~"
   ]
  },
  {
   "cell_type": "code",
   "execution_count": 98,
   "metadata": {
    "collapsed": true
   },
   "outputs": [],
   "source": [
    "import sys\n",
    "class FullNetwork(nn.Module):\n",
    "    \"\"\"\n",
    "    This class does all the steps from (title, desc, categorical) features -> predicted target\n",
    "    It unites title & desc encoders you defined above as long as some layers for head and categorical branch.\n",
    "    \"\"\"\n",
    "    \n",
    "    def __init__(self, title_encoder, desc_encoder, n_cat_features=len(categorical_vectorizer.vocabulary_)):\n",
    "        super(self.__class__, self).__init__()\n",
    "        \n",
    "        self.title_encoder = title_encoder\n",
    "        self.desc_encoder = desc_encoder\n",
    "        \n",
    "        self.cat_encoder = nn.Sequential(\n",
    "            nn.Linear(n_cat_features, 128),\n",
    "            nn.BatchNorm1d(128),\n",
    "            nn.ReLU(),\n",
    "            nn.Linear(128, 256),\n",
    "            nn.BatchNorm1d(256),\n",
    "            nn.ReLU(),\n",
    "            nn.Linear(256, 256),\n",
    "            nn.BatchNorm1d(256),\n",
    "            nn.ReLU(),\n",
    "        )\n",
    "        \n",
    "        self.output_network = nn.Sequential(\n",
    "            nn.Linear(title_encoder.out_size + desc_encoder.out_size + 256, 256),\n",
    "            nn.BatchNorm1d(256),\n",
    "            nn.ReLU(),\n",
    "            nn.Linear(256, 1),\n",
    "            nn.ReLU(),\n",
    "        )\n",
    "        \n",
    "        \n",
    "    def forward(self, title_ix, desc_ix, cat_features):\n",
    "        \"\"\"\n",
    "        :param title_ix: int32 Variable [batch, title_len], job titles encoded by as_matrix\n",
    "        :param desc_ix:  int32 Variable [batch, desc_len] , job descriptions encoded by as_matrix\n",
    "        :param cat_features: float32 Variable [batch, n_cat_features]\n",
    "        :returns: float32 Variable 1d [batch], predicted log1p-salary\n",
    "        \"\"\"\n",
    "        \n",
    "        title_h = self.title_encoder(title_ix)\n",
    "        desc_h = self.desc_encoder(desc_ix)\n",
    "        cat_h = self.cat_encoder(cat_features)\n",
    "        joint_h = torch.cat([title_h, desc_h, cat_h], dim=1)\n",
    "\n",
    "        joint_h = self.output_network(joint_h)\n",
    "\n",
    "        return joint_h[:, 0]"
   ]
  },
  {
   "cell_type": "code",
   "execution_count": 99,
   "metadata": {
    "collapsed": true
   },
   "outputs": [],
   "source": [
    "title_encoder = TextEncoder(hidden_size=128)\n",
    "desc_encoder = TextEncoder(hidden_size=128)\n",
    "model = FullNetwork(title_encoder, desc_encoder).cuda()\n",
    "opt = torch.optim.Adam(model.parameters(), lr=1e-3)"
   ]
  },
  {
   "cell_type": "code",
   "execution_count": 100,
   "metadata": {
    "collapsed": true
   },
   "outputs": [],
   "source": [
    "# # test it on one batch\n",
    "\n",
    "# batch = generate_batch(data_train, 64)\n",
    "\n",
    "# title_ix = Variable(torch.LongTensor(batch[\"Title\"])).cuda()\n",
    "# desc_ix = Variable(torch.LongTensor(batch[\"FullDescription\"])).cuda()\n",
    "# cat_features = Variable(torch.FloatTensor(batch[\"Categorical\"])).cuda()\n",
    "# reference = Variable(torch.FloatTensor(batch[target_column])).cuda()\n",
    "\n",
    "# prediction = model(title_ix, desc_ix, cat_features)\n",
    "\n",
    "# assert len(prediction.shape) == 1 and prediction.shape[0] == title_ix.shape[0]"
   ]
  },
  {
   "cell_type": "code",
   "execution_count": 101,
   "metadata": {
    "collapsed": true
   },
   "outputs": [],
   "source": [
    "def compute_loss(reference, prediction):\n",
    "    \"\"\"\n",
    "    Computes objective for minimization.\n",
    "    By deafult we minimize MSE, but you are encouraged to try mix up MSE, MAE, huber loss, etc.\n",
    "    \"\"\"\n",
    "    return torch.mean((prediction - reference) ** 2)\n",
    "\n",
    "def compute_mae(reference, prediction):\n",
    "    \"\"\" Compute MAE on actual salary, assuming your model outputs log1p(salary)\"\"\"\n",
    "    return torch.abs(torch.exp(reference - 1) - torch.exp(prediction - 1)).mean()"
   ]
  },
  {
   "cell_type": "code",
   "execution_count": 102,
   "metadata": {
    "collapsed": true
   },
   "outputs": [],
   "source": [
    "# loss = compute_loss(reference, prediction)\n",
    "# dummy_grads = torch.autograd.grad(loss, model.parameters(), retain_graph=True)\n",
    "# for grad in dummy_grads:\n",
    "#     assert grad is not None and not (grad == 0).all(), \"Some model parameters received zero grads. \" \\\n",
    "#                                                        \"Double-check that your model uses all it's layers.\""
   ]
  },
  {
   "cell_type": "markdown",
   "metadata": {},
   "source": [
    "### Let's train it!"
   ]
  },
  {
   "cell_type": "code",
   "execution_count": 103,
   "metadata": {
    "collapsed": true
   },
   "outputs": [],
   "source": [
    "from tqdm import tnrange\n",
    "from IPython.display import display\n",
    "def iterate_minibatches(data, batch_size=32, max_len=None,\n",
    "                        max_batches=None, shuffle=True, verbose=True):\n",
    "    indices = np.arange(len(data))\n",
    "    if shuffle:\n",
    "        indices = np.random.permutation(indices)\n",
    "    if max_batches is not None:\n",
    "        indices = indices[: batch_size * max_batches]\n",
    "        \n",
    "    irange = tnrange if verbose else range\n",
    "    \n",
    "    for start in irange(0, len(indices), batch_size):\n",
    "        yield generate_batch(data.iloc[indices[start : start + batch_size]], max_len=max_len)"
   ]
  },
  {
   "cell_type": "code",
   "execution_count": 104,
   "metadata": {},
   "outputs": [],
   "source": [
    "def update_training_info(epoch, train_loss, train_mae, valid_loss, valid_mae, best_valid_mae):\n",
    "    sys.stdout.write('\\r')\n",
    "    string = (\"Epoch {epoch}, \"\n",
    "              \"train loss: {train_loss:.3f} train MAE: {train_mae:.1f}, \"\n",
    "              \"valid_loss: {valid_loss:.3f} valid MAE: {valid_mae:.1f}, \"\n",
    "              \"best valid MAE: {best_valid_mae:.3f}\").format(**locals())\n",
    "    sys.stdout.write(string)\n",
    "    \n",
    "def subsamble(data, num_points_per_epoch, desired_num_points_per_epoch):\n",
    "    stride = num_points_per_epoch // desired_num_points_per_epoch\n",
    "    return data[::stride]"
   ]
  },
  {
   "cell_type": "code",
   "execution_count": 105,
   "metadata": {
    "collapsed": true
   },
   "outputs": [],
   "source": [
    "import time\n",
    "import copy\n",
    "\n",
    "def train_and_eval(model, optimizer, num_epochs, data_train, data_val, batch_size, batches_per_train_epoch, chart_subsample_rate=20, early_stopping_thrshold=1):\n",
    "\n",
    "    train_losses = []\n",
    "    train_maes = []\n",
    "    val_losses = []\n",
    "    val_maes = []\n",
    "    best_val_mae = math.inf\n",
    "    best_state_dict = None\n",
    "    non_minimum_supression_iters = 0\n",
    "\n",
    "\n",
    "    for epoch_i in tnrange(num_epochs):\n",
    "        start = time.time()\n",
    "        train_loss = train_mae = train_batches = 0    \n",
    "        model.train(True)\n",
    "\n",
    "        for batch_idx, batch in enumerate(iterate_minibatches(data_train, batch_size=batch_size, max_batches=batches_per_train_epoch, verbose=False)):\n",
    "\n",
    "            title_ix = Variable(torch.LongTensor(batch[\"Title\"])).cuda()\n",
    "            desc_ix = Variable(torch.LongTensor(batch[\"FullDescription\"])).cuda()\n",
    "            cat_features = Variable(torch.FloatTensor(batch[\"Categorical\"])).cuda()\n",
    "            reference = Variable(torch.FloatTensor(batch[target_column])).cuda()\n",
    "\n",
    "            prediction = model(title_ix, desc_ix, cat_features)\n",
    "\n",
    "            loss = compute_loss(reference, prediction)\n",
    "            loss.backward()\n",
    "            optimizer.step()\n",
    "            optimizer.zero_grad()\n",
    "\n",
    "            loss_value = loss.data.cpu().numpy()[0]\n",
    "            mae_value = compute_mae(reference, prediction).data.cpu().numpy()[0]\n",
    "\n",
    "            train_loss += loss_value\n",
    "            train_mae += mae_value\n",
    "            train_batches += 1\n",
    "            train_losses.append(loss_value)\n",
    "            train_maes.append(mae_value)\n",
    "        train_loss /= train_batches\n",
    "        train_mae /= train_batches\n",
    "\n",
    "        val_loss = val_mae = val_batches = 0\n",
    "        model.train(False)\n",
    "\n",
    "        for batch_idx, batch in enumerate(iterate_minibatches(data_val, batch_size=batch_size, shuffle=False, verbose=False)):\n",
    "            title_ix = Variable(torch.LongTensor(batch[\"Title\"]), volatile=True).cuda()\n",
    "            desc_ix = Variable(torch.LongTensor(batch[\"FullDescription\"]), volatile=True).cuda()\n",
    "            cat_features = Variable(torch.FloatTensor(batch[\"Categorical\"]), volatile=True).cuda()\n",
    "            reference = Variable(torch.FloatTensor(batch[target_column]), volatile=True).cuda()\n",
    "\n",
    "            prediction = model(title_ix, desc_ix, cat_features)\n",
    "            loss = compute_loss(reference, prediction)\n",
    "\n",
    "            loss_value = loss.data.cpu().numpy()[0]\n",
    "            mae_value = compute_mae(reference, prediction).data.cpu().numpy()[0]\n",
    "\n",
    "            val_loss += loss_value\n",
    "            val_mae += mae_value\n",
    "            val_batches += 1\n",
    "            val_losses.append(loss_value)\n",
    "            val_maes.append(mae_value)\n",
    "        val_loss /= val_batches\n",
    "        val_mae /= val_batches\n",
    "        if val_mae < best_val_mae:\n",
    "            best_val_mae = val_mae\n",
    "            best_state_dict = copy.deepcopy(model.state_dict())\n",
    "            non_minimum_supression_iters = 0\n",
    "        else:\n",
    "            non_minimum_supression_iters += 1\n",
    "        \n",
    "        update_training_info(epoch_i, train_loss, train_mae, val_loss, val_mae, best_val_mae)\n",
    "        \n",
    "        if non_minimum_supression_iters >= early_stopping_thrshold:\n",
    "            print(\"\\nStopping iteration due to early stopping condition\")\n",
    "            break\n",
    "\n",
    "    fig = plt.figure(figsize=(16, 8))\n",
    "    axes = fig.subplots(1, 2)\n",
    "    val_maes_subsampled = subsamble(val_maes, len(data_val) // batch_size, chart_subsample_rate)\n",
    "    train_maes_subsampled = subsamble(train_maes, batches_per_train_epoch, chart_subsample_rate)\n",
    "    val_losses_subsampled = subsamble(val_losses, len(data_val) // batch_size, chart_subsample_rate)\n",
    "    train_losses_subsampled = subsamble(train_losses, batches_per_train_epoch, chart_subsample_rate)\n",
    "    axes[0].set_title(\"Loss\")\n",
    "    axes[0].plot(np.linspace(0, epoch_i, len(val_losses_subsampled)), val_losses_subsampled, alpha=0.7, label=\"Validation\")\n",
    "    axes[0].plot(np.linspace(0, epoch_i, len(train_losses_subsampled)), train_losses_subsampled, alpha=0.7, label=\"Train\")\n",
    "    axes[0].legend()\n",
    "\n",
    "    axes[1].set_title(\"Mean Absolute Error\")\n",
    "    axes[1].plot(np.linspace(0, epoch_i, len(val_maes_subsampled)), val_maes_subsampled, alpha=0.7, label=\"Validation\")\n",
    "    axes[1].plot(np.linspace(0, epoch_i, len(train_maes_subsampled)), train_maes_subsampled, alpha=0.7, label=\"Train\")\n",
    "    axes[1].legend()\n",
    "    plt.show()\n",
    "    \n",
    "    print(\"Training finished, final eval:\")\n",
    "    val_loss = val_mae = val_batches = 0\n",
    "    model.load_state_dict(best_state_dict)\n",
    "    model.train(False)\n",
    "    for batch in iterate_minibatches(data_val, shuffle=False):\n",
    "        title_ix = Variable(torch.LongTensor(batch[\"Title\"]), volatile=True).cuda()\n",
    "        desc_ix = Variable(torch.LongTensor(batch[\"FullDescription\"]), volatile=True).cuda()\n",
    "        cat_features = Variable(torch.FloatTensor(batch[\"Categorical\"]), volatile=True).cuda()\n",
    "        reference = Variable(torch.FloatTensor(batch[target_column]), volatile=True).cuda()\n",
    "\n",
    "        prediction = model(title_ix, desc_ix, cat_features)\n",
    "        loss = compute_loss(reference, prediction)\n",
    "\n",
    "        val_loss += loss.data.cpu().numpy()[0]\n",
    "        val_mae += compute_mae(reference, prediction).data.cpu().numpy()[0]\n",
    "        val_batches += 1\n",
    "    print()\n",
    "    print(\"\\tLoss:\\t%.5f\" % (val_loss / val_batches))\n",
    "    print(\"\\tMAE:\\t%.5f\" % (val_mae / val_batches))"
   ]
  },
  {
   "cell_type": "code",
   "execution_count": 106,
   "metadata": {},
   "outputs": [
    {
     "data": {
      "application/vnd.jupyter.widget-view+json": {
       "model_id": "0a0c5a06162744508a1b5cb1015bcec8",
       "version_major": 2,
       "version_minor": 0
      },
      "text/plain": [
       "HBox(children=(IntProgress(value=0), HTML(value='')))"
      ]
     },
     "metadata": {},
     "output_type": "display_data"
    },
    {
     "name": "stdout",
     "output_type": "stream",
     "text": [
      "Epoch 28, train loss: 0.027 train MAE: 1600.9, valid_loss: 0.052 valid MAE: 2101.9, best valid MAE: 2031.677\n",
      "Stopping iteration due to early stopping condition\n"
     ]
    },
    {
     "data": {
      "image/png": "[encoded data removed]",
      "text/plain": [
       "<Figure size 1152x576 with 2 Axes>"
      ]
     },
     "metadata": {},
     "output_type": "display_data"
    },
    {
     "name": "stdout",
     "output_type": "stream",
     "text": [
      "Training finished, final eval:\n"
     ]
    },
    {
     "data": {
      "application/vnd.jupyter.widget-view+json": {
       "model_id": "9893d4121ba54bddb7fa2d6dd6b008f0",
       "version_major": 2,
       "version_minor": 0
      },
      "text/plain": [
       "HBox(children=(IntProgress(value=0, max=765), HTML(value='')))"
      ]
     },
     "metadata": {},
     "output_type": "display_data"
    },
    {
     "name": "stdout",
     "output_type": "stream",
     "text": [
      "\n",
      "\n",
      "\n",
      "\tLoss:\t0.04872\n",
      "\tMAE:\t2032.79195\n"
     ]
    }
   ],
   "source": [
    "train_and_eval(model, opt, 100, data_train, data_val, 64, 1000, early_stopping_thrshold=5)"
   ]
  },
  {
   "cell_type": "markdown",
   "metadata": {},
   "source": [
    "### Task 3.2: Actually make it work\n",
    "\n",
    "Your main task is to use some of the tricks you've learned on the network and analyze if you can improve __validation MAE__.\n",
    "\n",
    "Try __at least 3 options__ from the list below for a passing grade. If you're into \n",
    "\n",
    "#### A) CNN architecture\n",
    "\n",
    "All the tricks you know about dense and convolutional neural networks apply here as well.\n",
    "* Dropout. Nuff said.\n",
    "* Batch Norm. This time it's `nn.BatchNorm1d`\n",
    "* Parallel convolution layers. The idea is that you apply several nn.Conv1d to the same embeddings and concatenate output channels.\n",
    "* More layers, more neurons, ya know...\n",
    "\n",
    "\n",
    "#### B) Play with pooling\n",
    "\n",
    "There's more than one way to do max pooling:\n",
    "* Max over time - our `GlobalMaxPooling`\n",
    "* Average over time (excluding PAD)\n",
    "* Softmax-pooling:\n",
    "$$ out_{i, t} = \\sum_t {h_{i,t} \\cdot {{e ^ {h_{i, t}}} \\over \\sum_\\tau e ^ {h_{j, \\tau}} } }$$\n",
    "\n",
    "* Attentive pooling\n",
    "$$ out_{i, t} = \\sum_t {h_{i,t} \\cdot Attn(h_t)}$$\n",
    "\n",
    ", where $$ Attn(h_t) = {{e ^ {NN_{attn}(h_t)}} \\over \\sum_\\tau e ^ {NN_{attn}(h_\\tau)}}  $$\n",
    "and $NN_{attn}$ is a small neural network\n",
    "\n",
    "\n",
    "The optimal score is usually achieved by concatenating several different poolings, including several attentive pooling with different $NN_{attn}$\n",
    "\n",
    "#### C) Fun with embeddings\n",
    "\n",
    "It's not always a good idea to train embeddings from scratch. Here's a few tricks:\n",
    "\n",
    "* Use a pre-trained word2vec from [here](http://ahogrammer.com/2017/01/20/the-list-of-pretrained-word-embeddings/) or [here](http://mccormickml.com/2016/04/12/googles-pretrained-word2vec-model-in-python/).\n",
    "* Start with pre-trained embeddings, then fine-tune them with gradient descent\n",
    "* Use the same embedding matrix in title and desc vectorizer\n",
    "\n",
    "#### D) Going recurrent\n",
    "\n",
    "We've already learned that recurrent networks can do cool stuff in sequence modelling. Turns out, they're not useless for classification as well. With some tricks of course..\n",
    "\n",
    "* Like convolutional layers, LSTM should be pooled into a fixed-size vector with some of the poolings.\n",
    "  * Please bear in mind that while convolution uses [batch, units, time] dim order, \n",
    "    recurrent units are built for [batch, time, unit]. You may need to `torch.transpose`.\n",
    "\n",
    "* Since you know all the text in advance, use bidirectional RNN\n",
    "  * Run one LSTM from left to right\n",
    "  * Run another in parallel from right to left \n",
    "  * Concatenate their output sequences along unit axis (dim=-1)\n",
    "\n",
    "* It might be good idea to mix convolutions and recurrent layers differently for title and description\n",
    "\n",
    "\n",
    "#### E) Optimizing seriously\n",
    "\n",
    "* You don't necessarily need 100 epochs. Use early stopping. If you've never done this before, take a look at [keras](https://github.com/keras-team/keras/blob/master/keras/callbacks.py#L461) for inspiration.\n",
    "  * In short, train until you notice that validation\n",
    "  * Maintain the best-on-validation snapshot via `model.state_dict`\n",
    "  * Plotting learning curves is usually a good idea"
   ]
  },
  {
   "cell_type": "markdown",
   "metadata": {},
   "source": [
    "### A short report\n",
    "\n",
    "We used **batch_size=64** in every model except for RNN due to memory constraints. We used **1000** training batches in each epoch. The baseline architecture and training procedure gave around **2559.2** validation MAE, after implementing early stopping and best state dict saving, MAE decreased to **2151.1**. RNN variant was much slower to train (around 3-4 times slower) and did not achieve lower MAE, we tried both LSTM and GRU bidirectional 3-layered vairiants with and without batchnorm, attentive pooling and **batch_size=16**. Early stopping was triggered at **2476.3** best validation MAE in the best recurrent model we obtained. With a slightly larger CNN model with batch norm in encoders (see Text Encoder above) we achieved **2032.8** MAE with GlobalMaxPooling, **2044.9** MAE with global average pooling, **2026.1** MAE with attentive pooling, **2380.3** MAE with softmax pooling"
   ]
  },
  {
   "cell_type": "markdown",
   "metadata": {},
   "source": [
    "<table>\n",
    "<tr>\n",
    "<th>Model</th>\n",
    "<th>Validation MAE</th>\n",
    "</tr>\n",
    "<tr>\n",
    "<td>Baseline</td>\n",
    "<td>2559.2</td>\n",
    "</tr>\n",
    "<tr>\n",
    "<td>Baseline + early stopping + best dict saving</td>\n",
    "<td>2151.1</td>\n",
    "</tr>\n",
    "<tr>\n",
    "<td>LSTM</td>\n",
    "<td>2476.3</td>\n",
    "</tr>\n",
    "<tr>\n",
    "<td>CNN Larger + BN + softmax pooling</td>\n",
    "<td>2380.3</td>\n",
    "</tr>\n",
    "<tr>\n",
    "<td>CNN Larger + BN + global average pooling</td>\n",
    "<td>2044.9</td>\n",
    "</tr>\n",
    "<tr>\n",
    "<td>CNN Larger + BN + attentive pooling</td>\n",
    "<td>2026.1</td>\n",
    "</tr>\n",
    "<tr>\n",
    "<td>CNN Larger + BN + global max pooling</td>\n",
    "<td>2032.8</td>\n",
    "</tr>\n",
    "</table>"
   ]
  },
  {
   "cell_type": "code",
   "execution_count": null,
   "metadata": {},
   "outputs": [],
   "source": []
  }
 ],
 "metadata": {
  "kernelspec": {
   "display_name": "Python 3",
   "language": "python",
   "name": "python3"
  },
  "language_info": {
   "codemirror_mode": {
    "name": "ipython",
    "version": 3
   },
   "file_extension": ".py",
   "mimetype": "text/x-python",
   "name": "python",
   "nbconvert_exporter": "python",
   "pygments_lexer": "ipython3",
   "version": "3.6.2"
  }
 },
 "nbformat": 4,
 "nbformat_minor": 2
}
